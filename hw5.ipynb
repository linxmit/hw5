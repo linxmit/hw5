{
 "cells": [
  {
   "cell_type": "markdown",
   "metadata": {},
   "source": [
    "Fetching Webpages with the Requests Library To Demonstrate\n",
    "===========================================\n",
    "SqlAlchemy helps you use a database to store and retrieve information from python.  It abstracts the specific storage engine from te way you use it - so it doesn't care if you end up using MySQL, SQLite, or whatever else. In addition, you can use core and the object-relational mapper (ORM) to avoid writing any SQL at all.  The [SQLAlchemy homepage](http://www.sqlalchemy.org/) has lots of good examples and full documentation."
   ]
  },
  {
   "cell_type": "code",
   "execution_count": 287,
   "metadata": {
    "collapsed": false
   },
   "outputs": [],
   "source": [
    "from sqlalchemy import *\n",
    "import datetime\n",
    "import mediacloud"
   ]
  },
  {
   "cell_type": "markdown",
   "metadata": {},
   "source": [
    "## Basic SQL Generation\n",
    "The core library generates SQL for you.  Read more about it on their [expression language tutorial page](http://docs.sqlalchemy.org/en/rel_1_0/core/index.html). Below are some basic examples."
   ]
  },
  {
   "cell_type": "markdown",
   "metadata": {},
   "source": [
    "### Creating a Table\n",
    "Read more about [defining and creating tables](http://docs.sqlalchemy.org/en/rel_1_0/core/tutorial.html#define-and-create-tables)."
   ]
  },
  {
   "cell_type": "code",
   "execution_count": 288,
   "metadata": {
    "collapsed": false
   },
   "outputs": [],
   "source": [
    "# add `echo=True` to see log statements of all the SQL that is generated\n",
    "engine = create_engine('sqlite:///:memory:') # just save the db in memory for now (ie. not on disk)\n",
    "metadata = MetaData()\n",
    "echo=True\n",
    "# define a table to use\n",
    "queries = Table('queries', metadata,\n",
    "    Column('id', Integer, primary_key=True),\n",
    "    Column('keywords', String(400), nullable=False),\n",
    "    Column('timestamp', DateTime, default=datetime.datetime.now),\n",
    "    Column('sentenceCount',Integer),\n",
    ")\n",
    "metadata.create_all(engine) # and create the tables in the database"
   ]
  },
  {
   "cell_type": "markdown",
   "metadata": {},
   "source": [
    "### Inserting Data\n",
    "Read more about generating [SQL insert statements](http://docs.sqlalchemy.org/en/rel_1_0/core/tutorial.html#insert-expressions)."
   ]
  },
  {
   "cell_type": "code",
   "execution_count": 289,
   "metadata": {
    "collapsed": false
   },
   "outputs": [
    {
     "data": {
      "text/plain": [
       "'INSERT INTO queries (id, keywords, timestamp, \"sentenceCount\") VALUES (:id, :keywords, :timestamp, :sentenceCount)'"
      ]
     },
     "execution_count": 289,
     "metadata": {},
     "output_type": "execute_result"
    }
   ],
   "source": [
    "insert_stmt = queries.insert()\n",
    "str(insert_stmt) # see an example of what this will do"
   ]
  },
  {
   "cell_type": "code",
   "execution_count": 290,
   "metadata": {
    "collapsed": false
   },
   "outputs": [
    {
     "data": {
      "text/plain": [
       "'INSERT INTO queries (keywords, timestamp) VALUES (:keywords, :timestamp)'"
      ]
     },
     "execution_count": 290,
     "metadata": {},
     "output_type": "execute_result"
    }
   ],
   "source": [
    "insert_stmt = queries.insert().values(keywords=\"puppies\")\n",
    "str(insert_stmt)"
   ]
  },
  {
   "cell_type": "code",
   "execution_count": 291,
   "metadata": {
    "collapsed": false
   },
   "outputs": [
    {
     "data": {
      "text/plain": [
       "[3]"
      ]
     },
     "execution_count": 291,
     "metadata": {},
     "output_type": "execute_result"
    }
   ],
   "source": [
    "insert_stmt = queries.insert().values(keywords=\"kittens\")\n",
    "result = db_conn.execute(insert_stmt)\n",
    "result.inserted_primary_key # print out the primary key it was assigned"
   ]
  },
  {
   "cell_type": "code",
   "execution_count": 292,
   "metadata": {
    "collapsed": false
   },
   "outputs": [
    {
     "name": "stdout",
     "output_type": "stream",
     "text": [
      "Trump: 34800\n"
     ]
    }
   ],
   "source": [
    "countThis = 'Trump'\n",
    "mc = mediacloud.api.MediaCloud(\"b78d27ab136fdca2b4adac433487cc1c4aa0f837f5a0c49bd6ae135a22722486\")\n",
    "filter_set = [mc.publish_date_query(datetime.date(2015,8,1),datetime.date(2015,8,31)),'media_sets_id:1']\n",
    "resultCount = mc.sentenceCount(countThis,solr_filter=filter_set)\n",
    "print countThis + ': ' + str(resultCount['count'])\n",
    "insert_stmt = queries.insert().values(keywords=countThis, sentenceCount=resultCount['count'])"
   ]
  },
  {
   "cell_type": "code",
   "execution_count": 293,
   "metadata": {
    "collapsed": false
   },
   "outputs": [
    {
     "data": {
      "text/plain": [
       "[1]"
      ]
     },
     "execution_count": 293,
     "metadata": {},
     "output_type": "execute_result"
    }
   ],
   "source": [
    "db_conn = engine.connect()\n",
    "result = db_conn.execute(insert_stmt)\n",
    "result.inserted_primary_key # print out the primary key it was assigned"
   ]
  },
  {
   "cell_type": "code",
   "execution_count": 294,
   "metadata": {
    "collapsed": false
   },
   "outputs": [
    {
     "name": "stdout",
     "output_type": "stream",
     "text": [
      "Obama: 15235\n"
     ]
    }
   ],
   "source": [
    "countThis = 'Obama'\n",
    "mc = mediacloud.api.MediaCloud(\"b78d27ab136fdca2b4adac433487cc1c4aa0f837f5a0c49bd6ae135a22722486\")\n",
    "filter_set = [mc.publish_date_query(datetime.date(2015,8,1),datetime.date(2015,8,31)),'media_sets_id:1']\n",
    "resultCount = mc.sentenceCount(countThis,solr_filter=filter_set)\n",
    "print countThis + ': ' + str(resultCount['count'])\n",
    "insert_stmt = queries.insert().values(keywords=countThis, sentenceCount=resultCount['count'])"
   ]
  },
  {
   "cell_type": "code",
   "execution_count": 295,
   "metadata": {
    "collapsed": false
   },
   "outputs": [
    {
     "data": {
      "text/plain": [
       "[2]"
      ]
     },
     "execution_count": 295,
     "metadata": {},
     "output_type": "execute_result"
    }
   ],
   "source": [
    "db_conn = engine.connect()\n",
    "result = db_conn.execute(insert_stmt)\n",
    "result.inserted_primary_key # print out the primary key it was assigned"
   ]
  },
  {
   "cell_type": "markdown",
   "metadata": {},
   "source": [
    "### Retrieving Data\n",
    "Read more about using [SQL select statments](http://docs.sqlalchemy.org/en/rel_1_0/core/tutorial.html#selecting)."
   ]
  },
  {
   "cell_type": "code",
   "execution_count": 296,
   "metadata": {
    "collapsed": false
   },
   "outputs": [
    {
     "name": "stdout",
     "output_type": "stream",
     "text": [
      "(1, u'Trump', datetime.datetime(2015, 12, 14, 22, 17, 10, 416000), 34800)\n",
      "(2, u'Obama', datetime.datetime(2015, 12, 14, 22, 17, 11, 308000), 15235)\n"
     ]
    }
   ],
   "source": [
    "from sqlalchemy.sql import select\n",
    "select_stmt = select([queries])\n",
    "results = db_conn.execute(select_stmt)\n",
    "for row in results:\n",
    "    print row"
   ]
  },
  {
   "cell_type": "code",
   "execution_count": 297,
   "metadata": {
    "collapsed": false
   },
   "outputs": [
    {
     "name": "stdout",
     "output_type": "stream",
     "text": [
      "(1, u'Trump', datetime.datetime(2015, 12, 14, 22, 17, 10, 416000), 34800)\n"
     ]
    }
   ],
   "source": [
    "select_stmt = select([queries]).where(queries.c.id==1)\n",
    "for row in db_conn.execute(select_stmt):\n",
    "    print row"
   ]
  },
  {
   "cell_type": "markdown",
   "metadata": {},
   "source": [
    "## Adding Up"
   ]
  },
  {
   "cell_type": "code",
   "execution_count": 298,
   "metadata": {
    "collapsed": false
   },
   "outputs": [
    {
     "name": "stdout",
     "output_type": "stream",
     "text": [
      "sum is 50035\n"
     ]
    }
   ],
   "source": [
    "select_stmt = select([queries]).where(queries.c.sentenceCount)\n",
    "#print select_stmt #debug\n",
    "sum=0\n",
    "for row in db_conn.execute(select_stmt):\n",
    "    sum = sum + row.sentenceCount\n",
    "print 'Sum is ' + str(sum)"
   ]
  },
  {
   "cell_type": "code",
   "execution_count": null,
   "metadata": {
    "collapsed": true
   },
   "outputs": [],
   "source": []
  },
  {
   "cell_type": "markdown",
   "metadata": {},
   "source": [
    "## ORM\n",
    "You can use their ORM library to handle the translation into full-fledged python objects.  This can help you build the Model for you [MVC](https://en.wikipedia.org/wiki/Model–view–controller) solution."
   ]
  },
  {
   "cell_type": "code",
   "execution_count": 299,
   "metadata": {
    "collapsed": false
   },
   "outputs": [],
   "source": [
    "import datetime\n",
    "from sqlalchemy import *\n",
    "from sqlalchemy.ext.declarative import declarative_base\n",
    "from sqlalchemy.orm import sessionmaker\n",
    "Base = declarative_base()"
   ]
  },
  {
   "cell_type": "markdown",
   "metadata": {},
   "source": [
    "### Creating a class mapping\n",
    "Read more about [creating a mapping](http://docs.sqlalchemy.org/en/rel_1_0/orm/tutorial.html#declare-a-mapping)."
   ]
  },
  {
   "cell_type": "code",
   "execution_count": 300,
   "metadata": {
    "collapsed": false
   },
   "outputs": [
    {
     "data": {
      "text/plain": [
       "Table('queries', MetaData(bind=None), Column('id', Integer(), table=<queries>, primary_key=True, nullable=False), Column('keywords', String(length=400), table=<queries>), Column('timestamp', DateTime(), table=<queries>, default=ColumnDefault(<function <lambda> at 0x05939B70>)), schema=None)"
      ]
     },
     "execution_count": 300,
     "metadata": {},
     "output_type": "execute_result"
    }
   ],
   "source": [
    "class Query(Base):\n",
    "    __tablename__ = 'queries'\n",
    "    id = Column(Integer, primary_key=True)\n",
    "    keywords = Column(String(400))\n",
    "    timestamp = Column(DateTime,default=datetime.datetime.now)\n",
    "    def __repr__(self):\n",
    "        return \"<Query(keywords='%s')>\" % (self.keywords)\n",
    "Query.__table__"
   ]
  },
  {
   "cell_type": "markdown",
   "metadata": {},
   "source": [
    "### Creating a connection and session\n",
    "Read more about [creating this stuff](http://docs.sqlalchemy.org/en/rel_1_0/orm/tutorial.html#creating-a-session)."
   ]
  },
  {
   "cell_type": "code",
   "execution_count": 301,
   "metadata": {
    "collapsed": true
   },
   "outputs": [],
   "source": [
    "engine = create_engine('sqlite:///:memory:') # just save the db in memory for now (ie. not on disk)\n",
    "Base.metadata.create_all(engine)\n",
    "Session = sessionmaker(bind=engine)\n",
    "my_session = Session()"
   ]
  },
  {
   "cell_type": "markdown",
   "metadata": {},
   "source": [
    "### Inserting Data\n",
    "Read more about [inserting data with an ORM](http://docs.sqlalchemy.org/en/rel_1_0/orm/tutorial.html#adding-new-objects)."
   ]
  },
  {
   "cell_type": "code",
   "execution_count": 302,
   "metadata": {
    "collapsed": false
   },
   "outputs": [
    {
     "data": {
      "text/plain": [
       "'iguana'"
      ]
     },
     "execution_count": 302,
     "metadata": {},
     "output_type": "execute_result"
    }
   ],
   "source": [
    "query = Query(keywords=\"iguana\")\n",
    "query.keywords"
   ]
  },
  {
   "cell_type": "code",
   "execution_count": 303,
   "metadata": {
    "collapsed": false
   },
   "outputs": [
    {
     "data": {
      "text/plain": [
       "1"
      ]
     },
     "execution_count": 303,
     "metadata": {},
     "output_type": "execute_result"
    }
   ],
   "source": [
    "my_session.add(query)\n",
    "my_session.commit()\n",
    "query.id"
   ]
  },
  {
   "cell_type": "markdown",
   "metadata": {},
   "source": [
    "### Retrieving Data\n",
    "Read more about [retrieving data from the db](http://docs.sqlalchemy.org/en/rel_1_0/orm/tutorial.html#querying) via an ORM class."
   ]
  },
  {
   "cell_type": "code",
   "execution_count": 304,
   "metadata": {
    "collapsed": false
   },
   "outputs": [
    {
     "name": "stdout",
     "output_type": "stream",
     "text": [
      "<Query(keywords='iguana')>\n"
     ]
    }
   ],
   "source": [
    "for q in my_session.query(Query).order_by(Query.timestamp):\n",
    "    print q"
   ]
  },
  {
   "cell_type": "code",
   "execution_count": 305,
   "metadata": {
    "collapsed": true
   },
   "outputs": [],
   "source": [
    "query1 = Query(keywords=\"robot\")\n",
    "query2 = Query(keywords=\"puppy\")\n",
    "my_session.add_all([query1,query2])\n",
    "my_session.commit()"
   ]
  },
  {
   "cell_type": "code",
   "execution_count": 306,
   "metadata": {
    "collapsed": false
   },
   "outputs": [
    {
     "name": "stdout",
     "output_type": "stream",
     "text": [
      "<Query(keywords='iguana')>\n",
      "<Query(keywords='robot')>\n",
      "<Query(keywords='puppy')>\n"
     ]
    }
   ],
   "source": [
    "for q in my_session.query(Query).order_by(Query.timestamp):\n",
    "    print q"
   ]
  },
  {
   "cell_type": "code",
   "execution_count": 307,
   "metadata": {
    "collapsed": false
   },
   "outputs": [
    {
     "name": "stdout",
     "output_type": "stream",
     "text": [
      "<Query(keywords='robot')>\n"
     ]
    }
   ],
   "source": [
    "for q in my_session.query(Query).filter(Query.keywords.like('r%')):\n",
    "    print q"
   ]
  },
  {
   "cell_type": "code",
   "execution_count": null,
   "metadata": {
    "collapsed": true
   },
   "outputs": [],
   "source": []
  }
 ],
 "metadata": {
  "kernelspec": {
   "display_name": "Python 2",
   "language": "python",
   "name": "python2"
  },
  "language_info": {
   "codemirror_mode": {
    "name": "ipython",
    "version": 2
   },
   "file_extension": ".py",
   "mimetype": "text/x-python",
   "name": "python",
   "nbconvert_exporter": "python",
   "pygments_lexer": "ipython2",
   "version": "2.7.10"
  }
 },
 "nbformat": 4,
 "nbformat_minor": 0
}
